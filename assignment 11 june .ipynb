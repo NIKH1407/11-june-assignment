{
 "cells": [
  {
   "cell_type": "code",
   "execution_count": null,
   "id": "2f72cfc9-438f-44df-bd6d-be41d76a579d",
   "metadata": {},
   "outputs": [],
   "source": [
    "# What is a lambda function in Python, and how does it differ from a regular function?"
   ]
  },
  {
   "cell_type": "code",
   "execution_count": null,
   "id": "d684fc9e-945f-48ed-8af2-74bf192d6453",
   "metadata": {},
   "outputs": [],
   "source": [
    "\"\"\"In short, a lambda function in Python is an anonymous function defined using the lambda keyword. \n",
    "It is used for simple tasks and doesn't require a name. \n",
    "Lambda functions can take any number of arguments but can only have one expression. \n",
    "They are commonly used with higher-order functions. Regular functions, on the other hand, can have multiple statements, complex logic, and explicit return statements.\n",
    "They are suitable for larger and more complex tasks.\"\"\"\n",
    "\n",
    "\n",
    "# eg:\n",
    "    \n",
    "#     square = lambda x: x ** 2\n"
   ]
  },
  {
   "cell_type": "code",
   "execution_count": null,
   "id": "d79d931b-a860-4c08-b706-55cce45d1f72",
   "metadata": {},
   "outputs": [],
   "source": [
    "# Can a lambda function in Python have multiple arguments? If yes, how can you define and use\n",
    "# them?"
   ]
  },
  {
   "cell_type": "code",
   "execution_count": null,
   "id": "769a9fe8-0e08-4bd6-a08c-b9562eeecdc2",
   "metadata": {},
   "outputs": [],
   "source": [
    "\"\"\"Yes, a lambda function in Python can have multiple arguments. \n",
    "You can define and use multiple arguments in a lambda function by separating them with commas in the argument list.\n",
    "\n",
    "example of a lambda function with multiple arguments:\n",
    "multiply = lambda x, y: x * y\"\"\"\n"
   ]
  },
  {
   "cell_type": "code",
   "execution_count": null,
   "id": "3c66f407-f98b-4c61-afd3-419c1d4cf845",
   "metadata": {},
   "outputs": [],
   "source": [
    "# How are lambda functions typically used in Python? Provide an example use case."
   ]
  },
  {
   "cell_type": "code",
   "execution_count": null,
   "id": "afda743c-def1-4b06-b7bb-10eb8c672c28",
   "metadata": {},
   "outputs": [],
   "source": [
    "\"\"\"In short, lambda functions in Python are often used with higher-order functions like `map()`, `filter()`, and `reduce()`. They provide a convenient way to define small, anonymous functions on the fly without the need for explicitly naming them. \n",
    "Lambda functions are useful for performing simple operations on iterables or data transformations in a concise manner.\"\"\""
   ]
  },
  {
   "cell_type": "code",
   "execution_count": null,
   "id": "6e879122-744f-4856-bfde-38e243dbbfb1",
   "metadata": {},
   "outputs": [],
   "source": [
    "# numbers = [1, 2, 3, 4, 5]\n",
    "# squared_numbers = map(lambda x: x**2, numbers)\n"
   ]
  },
  {
   "cell_type": "code",
   "execution_count": null,
   "id": "678c0f97-c61a-4f26-941c-a44877d117af",
   "metadata": {},
   "outputs": [],
   "source": [
    "# What are the advantages and limitations of lambda functions compared to regular functions in\n",
    "# Python?"
   ]
  },
  {
   "cell_type": "code",
   "execution_count": null,
   "id": "734c170b-b2c6-4284-af8b-1a89fce62b6c",
   "metadata": {},
   "outputs": [],
   "source": [
    "\n",
    "\"\"\"In short, the advantages of lambda functions are their concise syntax, on-the-fly definition, \n",
    "and compatibility with functional programming. However, they have limitations such as being restricted to a single expression, \n",
    "reduced readability for complex cases, and the lack of an explicit return statement. Regular functions, in contrast, \n",
    "offer more flexibility, readability, and control over complex functionality.\"\"\""
   ]
  },
  {
   "cell_type": "code",
   "execution_count": null,
   "id": "69c59271-a47a-457e-9c62-b927f4664ec4",
   "metadata": {},
   "outputs": [],
   "source": [
    "# Are lambda functions in Python able to access variables defined outside of their own scope?\n",
    "# Explain with an example."
   ]
  },
  {
   "cell_type": "code",
   "execution_count": null,
   "id": "b47272cd-1a30-44d1-af17-bb81d6febecb",
   "metadata": {},
   "outputs": [],
   "source": [
    "# Yes, lambda functions in Python can access variables defined outside of their own scope. They have access to the variables in the enclosing scope, including global variables and variables defined in the surrounding function.\n",
    "\n",
    "# def outer_function():\n",
    "#     x = 10\n",
    "#     lambda_func = lambda y: x + y\n",
    "#     return lambda_func\n",
    "\n",
    "# lambda_function = outer_function()\n",
    "# result = lambda_function(5)\n",
    "# print(result)  # Output: 15"
   ]
  },
  {
   "cell_type": "code",
   "execution_count": null,
   "id": "709ffaec-015d-4662-98b7-5241f8cebf40",
   "metadata": {},
   "outputs": [],
   "source": [
    "\n",
    "# Write a lambda function to calculate the square of a given number."
   ]
  },
  {
   "cell_type": "code",
   "execution_count": null,
   "id": "f0f8f45c-2254-4697-a612-57f8b3c45779",
   "metadata": {},
   "outputs": [],
   "source": [
    "# square = lambda x: x ** 2\n",
    "\n",
    "# # Testing the lambda function\n",
    "# num = 5\n",
    "# result = square(num)\n",
    "# print(result)  # Output: 25\n"
   ]
  },
  {
   "cell_type": "code",
   "execution_count": null,
   "id": "666b84f5-42e5-4529-8a66-74849eec754b",
   "metadata": {},
   "outputs": [],
   "source": [
    "# Create a lambda function to find the maximum value in a list of integers."
   ]
  },
  {
   "cell_type": "code",
   "execution_count": null,
   "id": "bc889055-8339-4c2e-8409-a97486453cd5",
   "metadata": {},
   "outputs": [],
   "source": [
    "# find_max = lambda lst: max(lst)\n",
    "\n",
    "# # Testing the lambda function\n",
    "# numbers = [5, 2, 9, 1, 7]\n",
    "# max_value = find_max(numbers)\n",
    "# print(max_value)  # Output: 9\n"
   ]
  },
  {
   "cell_type": "code",
   "execution_count": null,
   "id": "06972f7c-bc44-4a33-b54f-c25d1f2292da",
   "metadata": {},
   "outputs": [],
   "source": [
    "# Implement a lambda function to filter out all the even numbers from a list of integers."
   ]
  },
  {
   "cell_type": "code",
   "execution_count": null,
   "id": "75239d30-b474-4c1b-86e2-2e4ebdde425e",
   "metadata": {},
   "outputs": [],
   "source": [
    "# filter_even = lambda lst: list(filter(lambda x: x % 2 == 0, lst))\n",
    "\n",
    "# # Testing the lambda function\n",
    "# numbers = [1, 2, 3, 4, 5, 6, 7, 8, 9, 10]\n",
    "# even_numbers = filter_even(numbers)\n",
    "# print(even_numbers)  # Output: [2, 4, 6, 8, 10]\n"
   ]
  },
  {
   "cell_type": "code",
   "execution_count": null,
   "id": "3f1e807f-11f1-4482-8d1f-585d3a0e8f7a",
   "metadata": {},
   "outputs": [],
   "source": [
    "# Write a lambda function to sort a list of strings in ascending order based on the length of each\n",
    "# string."
   ]
  },
  {
   "cell_type": "code",
   "execution_count": null,
   "id": "cd237827-aff2-4efb-9906-d191b3d58715",
   "metadata": {},
   "outputs": [],
   "source": [
    "# sort_strings_by_length = lambda lst: sorted(lst, key=lambda x: len(x))\n",
    "\n",
    "# # Testing the lambda function\n",
    "# strings = [\"apple\", \"banana\", \"orange\", \"kiwi\", \"grape\"]\n",
    "# sorted_strings = sort_strings_by_length(strings)\n",
    "# print(sorted_strings)  # Output: ['kiwi', 'grape', 'apple', 'banana', 'orange']\n",
    "# #"
   ]
  },
  {
   "cell_type": "code",
   "execution_count": null,
   "id": "5d4a61ad-1e18-4bc1-9fff-9cce3a39eb41",
   "metadata": {},
   "outputs": [],
   "source": [
    "# Create a lambda function that takes two lists as input and returns a new list containing the\n",
    "# common elements between the two lists."
   ]
  },
  {
   "cell_type": "code",
   "execution_count": null,
   "id": "042ff1b3-8c14-48ba-aab3-e3458d11198a",
   "metadata": {},
   "outputs": [],
   "source": [
    "# find_common_elements = lambda list1, list2: list(filter(lambda x: x in list2, list1))\n",
    "\n",
    "# # Testing the lambda function\n",
    "# list1 = [1, 2, 3, 4, 5]\n",
    "# list2 = [4, 5, 6, 7, 8]\n",
    "# common_elements = find_common_elements(list1, list2)\n",
    "# print(common_elements)  # Output: [4, 5]\n"
   ]
  },
  {
   "cell_type": "code",
   "execution_count": null,
   "id": "8d8ce197-5c09-4521-86ff-ae018138f2ce",
   "metadata": {},
   "outputs": [],
   "source": [
    "# Write a recursive function to calculate the factorial of a given positive integer."
   ]
  },
  {
   "cell_type": "code",
   "execution_count": null,
   "id": "0de95978-87fa-435b-bd1e-cce0d49f47ac",
   "metadata": {},
   "outputs": [],
   "source": [
    "# def factorial(n):\n",
    "#     if n == 0 or n == 1:\n",
    "#         return 1\n",
    "#     else:\n",
    "#         return n * factorial(n - 1)\n",
    "\n",
    "# # Testing the recursive function\n",
    "# num = 5\n",
    "# result = factorial(num)\n",
    "# print(result)  # Output: 120\n"
   ]
  },
  {
   "cell_type": "code",
   "execution_count": null,
   "id": "c688dd37-36c3-4cda-8009-7c827558de0b",
   "metadata": {},
   "outputs": [],
   "source": [
    "# Implement a recursive function to compute the nth Fibonacci number."
   ]
  },
  {
   "cell_type": "code",
   "execution_count": null,
   "id": "6d0f07a7-4144-44ec-b7c0-48584a6f7e41",
   "metadata": {},
   "outputs": [],
   "source": [
    "# def fibonacci(n):\n",
    "#     if n <= 0:\n",
    "#         raise ValueError(\"Input must be a positive integer.\")\n",
    "#     elif n == 1:\n",
    "#         return 0\n",
    "#     elif n == 2:\n",
    "#         return 1\n",
    "#     else:\n",
    "#         return fibonacci(n - 1) + fibonacci(n - 2)\n",
    "\n",
    "# # Testing the recursive function\n",
    "# num = 7\n",
    "# result = fibonacci(num)\n",
    "# print(result)  # Output: 8\n"
   ]
  },
  {
   "cell_type": "code",
   "execution_count": null,
   "id": "013e3aab-190b-40fb-b9e8-7f77cf0e1bf4",
   "metadata": {},
   "outputs": [],
   "source": [
    "# Create a recursive function to find the sum of all the elements in a given list."
   ]
  },
  {
   "cell_type": "code",
   "execution_count": null,
   "id": "aaa7a766-7aae-40b3-bb43-e29e1820bea3",
   "metadata": {},
   "outputs": [],
   "source": [
    "# def list_sum(lst):\n",
    "#     if not lst:\n",
    "#         return 0\n",
    "#     else:\n",
    "#         return lst[0] + list_sum(lst[1:])\n",
    "\n",
    "# # Testing the recursive function\n",
    "# numbers = [1, 2, 3, 4, 5]\n",
    "# result = list_sum(numbers)\n",
    "# print(result)  # Output: 15\n"
   ]
  },
  {
   "cell_type": "code",
   "execution_count": null,
   "id": "b59b7214-daf3-4091-bb65-1a599304f5a9",
   "metadata": {},
   "outputs": [],
   "source": [
    "# Write a recursive function to determine whether a given string is a palindrome."
   ]
  },
  {
   "cell_type": "code",
   "execution_count": null,
   "id": "a7a8c721-8d83-4ac6-9dde-8afc55656752",
   "metadata": {},
   "outputs": [],
   "source": [
    "# def is_palindrome(string):\n",
    "#     # Base case: if the string is empty or contains only one character, it's a palindrome\n",
    "#     if len(string) <= 1:\n",
    "#         return True\n",
    "\n",
    "#     # Recursive case: compare the first and last characters\n",
    "#     if string[0] == string[-1]:\n",
    "#         # Recursively check the substring without the first and last characters\n",
    "#         return is_palindrome(string[1:-1])\n",
    "    \n",
    "#     # If the first and last characters are not equal, it's not a palindrome\n",
    "#     return False\n"
   ]
  },
  {
   "cell_type": "code",
   "execution_count": null,
   "id": "83e025e5-6342-4bb4-9c0c-e860880ec068",
   "metadata": {},
   "outputs": [],
   "source": [
    "# Implement a recursive function to find the greatest common divisor (GCD) of two positive integers."
   ]
  },
  {
   "cell_type": "code",
   "execution_count": null,
   "id": "72691a1c-5b80-4d0c-9515-25a5769f003e",
   "metadata": {},
   "outputs": [],
   "source": [
    "# def gcd(a, gcd(a, b) and passing the two positive integers you want to find the GCD of. The function will return the GCD as the result.\n",
    "        \n",
    "# b):\n",
    "#     # Base case: if one of the numbers is zero, the other number is the GCD\n",
    "#     if b == 0:\n",
    "#         return a\n",
    "    \n",
    "#     # Recursive case: find the GCD by calling the function with b and the remainder of a divided by b\n",
    "#     return gcd(b, a % b)\n",
    "\n",
    "\n",
    "# gcd(a, b) and passing the two positive integers you want to find the GCD of. The function will return the GCD as the result.\n",
    "\n",
    "# eg:\n",
    "\n",
    "# print(gcd(48, 18))    # 6\n",
    "# print(gcd(60, 36))    # 12\n",
    "# print(gcd(107, 17))   # 1\n",
    "# print(gcd(100, 75))   # 25\n",
    "\n"
   ]
  }
 ],
 "metadata": {
  "kernelspec": {
   "display_name": "Python 3 (ipykernel)",
   "language": "python",
   "name": "python3"
  },
  "language_info": {
   "codemirror_mode": {
    "name": "ipython",
    "version": 3
   },
   "file_extension": ".py",
   "mimetype": "text/x-python",
   "name": "python",
   "nbconvert_exporter": "python",
   "pygments_lexer": "ipython3",
   "version": "3.10.6"
  }
 },
 "nbformat": 4,
 "nbformat_minor": 5
}
